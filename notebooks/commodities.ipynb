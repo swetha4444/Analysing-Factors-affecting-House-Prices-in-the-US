{
 "cells": [
  {
   "cell_type": "code",
   "execution_count": 96,
   "metadata": {},
   "outputs": [],
   "source": [
    "import pandas as pd\n",
    "import numpy as np\n",
    "from scipy.stats import ttest_ind\n",
    "from scipy.stats import pearsonr\n",
    "import seaborn as sns\n",
    "import matplotlib.pyplot as plt\n",
    "%matplotlib inline"
   ]
  },
  {
   "cell_type": "code",
   "execution_count": 85,
   "metadata": {},
   "outputs": [
    {
     "data": {
      "text/html": [
       "<div>\n",
       "<style scoped>\n",
       "    .dataframe tbody tr th:only-of-type {\n",
       "        vertical-align: middle;\n",
       "    }\n",
       "\n",
       "    .dataframe tbody tr th {\n",
       "        vertical-align: top;\n",
       "    }\n",
       "\n",
       "    .dataframe thead th {\n",
       "        text-align: right;\n",
       "    }\n",
       "</style>\n",
       "<table border=\"1\" class=\"dataframe\">\n",
       "  <thead>\n",
       "    <tr style=\"text-align: right;\">\n",
       "      <th></th>\n",
       "      <th>DATE</th>\n",
       "      <th>CS</th>\n",
       "    </tr>\n",
       "  </thead>\n",
       "  <tbody>\n",
       "    <tr>\n",
       "      <th>0</th>\n",
       "      <td>1987-01-01</td>\n",
       "      <td>63.962</td>\n",
       "    </tr>\n",
       "    <tr>\n",
       "      <th>1</th>\n",
       "      <td>1987-02-01</td>\n",
       "      <td>64.422</td>\n",
       "    </tr>\n",
       "    <tr>\n",
       "      <th>2</th>\n",
       "      <td>1987-03-01</td>\n",
       "      <td>64.733</td>\n",
       "    </tr>\n",
       "    <tr>\n",
       "      <th>3</th>\n",
       "      <td>1987-04-01</td>\n",
       "      <td>65.129</td>\n",
       "    </tr>\n",
       "    <tr>\n",
       "      <th>4</th>\n",
       "      <td>1987-05-01</td>\n",
       "      <td>65.563</td>\n",
       "    </tr>\n",
       "  </tbody>\n",
       "</table>\n",
       "</div>"
      ],
      "text/plain": [
       "         DATE      CS\n",
       "0  1987-01-01  63.962\n",
       "1  1987-02-01  64.422\n",
       "2  1987-03-01  64.733\n",
       "3  1987-04-01  65.129\n",
       "4  1987-05-01  65.563"
      ]
     },
     "execution_count": 85,
     "metadata": {},
     "output_type": "execute_result"
    }
   ],
   "source": [
    "case=pd.read_csv('../Data/CSUSHPISA.csv')\n",
    "case.rename(columns={'CSUSHPISA':'CS'},inplace=True)\n",
    "case.head()"
   ]
  },
  {
   "cell_type": "code",
   "execution_count": 86,
   "metadata": {},
   "outputs": [
    {
     "data": {
      "text/html": [
       "<div>\n",
       "<style scoped>\n",
       "    .dataframe tbody tr th:only-of-type {\n",
       "        vertical-align: middle;\n",
       "    }\n",
       "\n",
       "    .dataframe tbody tr th {\n",
       "        vertical-align: top;\n",
       "    }\n",
       "\n",
       "    .dataframe thead th {\n",
       "        text-align: right;\n",
       "    }\n",
       "</style>\n",
       "<table border=\"1\" class=\"dataframe\">\n",
       "  <thead>\n",
       "    <tr style=\"text-align: right;\">\n",
       "      <th></th>\n",
       "      <th>DATE</th>\n",
       "      <th>CS</th>\n",
       "      <th>Month</th>\n",
       "    </tr>\n",
       "  </thead>\n",
       "  <tbody>\n",
       "    <tr>\n",
       "      <th>156</th>\n",
       "      <td>2000</td>\n",
       "      <td>100.552</td>\n",
       "      <td>01</td>\n",
       "    </tr>\n",
       "    <tr>\n",
       "      <th>157</th>\n",
       "      <td>2000</td>\n",
       "      <td>101.339</td>\n",
       "      <td>01</td>\n",
       "    </tr>\n",
       "    <tr>\n",
       "      <th>158</th>\n",
       "      <td>2000</td>\n",
       "      <td>102.127</td>\n",
       "      <td>01</td>\n",
       "    </tr>\n",
       "    <tr>\n",
       "      <th>159</th>\n",
       "      <td>2000</td>\n",
       "      <td>102.922</td>\n",
       "      <td>01</td>\n",
       "    </tr>\n",
       "    <tr>\n",
       "      <th>160</th>\n",
       "      <td>2000</td>\n",
       "      <td>103.676</td>\n",
       "      <td>01</td>\n",
       "    </tr>\n",
       "    <tr>\n",
       "      <th>...</th>\n",
       "      <td>...</td>\n",
       "      <td>...</td>\n",
       "      <td>...</td>\n",
       "    </tr>\n",
       "    <tr>\n",
       "      <th>355</th>\n",
       "      <td>2016</td>\n",
       "      <td>181.884</td>\n",
       "      <td>01</td>\n",
       "    </tr>\n",
       "    <tr>\n",
       "      <th>356</th>\n",
       "      <td>2016</td>\n",
       "      <td>182.847</td>\n",
       "      <td>01</td>\n",
       "    </tr>\n",
       "    <tr>\n",
       "      <th>357</th>\n",
       "      <td>2016</td>\n",
       "      <td>183.754</td>\n",
       "      <td>01</td>\n",
       "    </tr>\n",
       "    <tr>\n",
       "      <th>358</th>\n",
       "      <td>2016</td>\n",
       "      <td>184.736</td>\n",
       "      <td>01</td>\n",
       "    </tr>\n",
       "    <tr>\n",
       "      <th>359</th>\n",
       "      <td>2016</td>\n",
       "      <td>185.682</td>\n",
       "      <td>01</td>\n",
       "    </tr>\n",
       "  </tbody>\n",
       "</table>\n",
       "<p>204 rows × 3 columns</p>\n",
       "</div>"
      ],
      "text/plain": [
       "     DATE       CS Month\n",
       "156  2000  100.552    01\n",
       "157  2000  101.339    01\n",
       "158  2000  102.127    01\n",
       "159  2000  102.922    01\n",
       "160  2000  103.676    01\n",
       "..    ...      ...   ...\n",
       "355  2016  181.884    01\n",
       "356  2016  182.847    01\n",
       "357  2016  183.754    01\n",
       "358  2016  184.736    01\n",
       "359  2016  185.682    01\n",
       "\n",
       "[204 rows x 3 columns]"
      ]
     },
     "execution_count": 86,
     "metadata": {},
     "output_type": "execute_result"
    }
   ],
   "source": [
    "case['Month']=case['DATE'].apply(lambda x:x[-2:])\n",
    "case['DATE']=case['DATE'].apply(lambda x:x[:-6])\n",
    "case = case[case['DATE'].astype('int')>=2000]\n",
    "case = case[case['DATE'].astype('int')<=2016]\n",
    "case"
   ]
  },
  {
   "cell_type": "code",
   "execution_count": 87,
   "metadata": {},
   "outputs": [
    {
     "data": {
      "text/html": [
       "<div>\n",
       "<style scoped>\n",
       "    .dataframe tbody tr th:only-of-type {\n",
       "        vertical-align: middle;\n",
       "    }\n",
       "\n",
       "    .dataframe tbody tr th {\n",
       "        vertical-align: top;\n",
       "    }\n",
       "\n",
       "    .dataframe thead th {\n",
       "        text-align: right;\n",
       "    }\n",
       "</style>\n",
       "<table border=\"1\" class=\"dataframe\">\n",
       "  <thead>\n",
       "    <tr style=\"text-align: right;\">\n",
       "      <th></th>\n",
       "      <th>Date</th>\n",
       "      <th>All Commodity Price Index</th>\n",
       "      <th>Non-Fuel Price Index</th>\n",
       "      <th>Food and Beverage Price Index</th>\n",
       "      <th>Food Price Index</th>\n",
       "      <th>Beverage Price Index</th>\n",
       "      <th>Industrial Inputs Price Index</th>\n",
       "      <th>Agricultural Raw Materials Index</th>\n",
       "      <th>Metals Price Index</th>\n",
       "      <th>Fuel Energy Index</th>\n",
       "      <th>...</th>\n",
       "      <th>Sugar Free Market</th>\n",
       "      <th>Sugar U.S. import price</th>\n",
       "      <th>Sunflower oil</th>\n",
       "      <th>Tea</th>\n",
       "      <th>Tin</th>\n",
       "      <th>Uranium</th>\n",
       "      <th>Wheat</th>\n",
       "      <th>Wool coarse</th>\n",
       "      <th>Wool fine</th>\n",
       "      <th>Zinc</th>\n",
       "    </tr>\n",
       "  </thead>\n",
       "  <tbody>\n",
       "    <tr>\n",
       "      <th>0</th>\n",
       "      <td>1980-01-01</td>\n",
       "      <td>NaN</td>\n",
       "      <td>NaN</td>\n",
       "      <td>NaN</td>\n",
       "      <td>NaN</td>\n",
       "      <td>189.310021</td>\n",
       "      <td>81.889650</td>\n",
       "      <td>78.900146</td>\n",
       "      <td>84.049004</td>\n",
       "      <td>NaN</td>\n",
       "      <td>...</td>\n",
       "      <td>17.299999</td>\n",
       "      <td>19.660000</td>\n",
       "      <td>566.926957</td>\n",
       "      <td>225.179901</td>\n",
       "      <td>16973.587904</td>\n",
       "      <td>40.0</td>\n",
       "      <td>175.634750</td>\n",
       "      <td>553.120940</td>\n",
       "      <td>684.277366</td>\n",
       "      <td>773.821533</td>\n",
       "    </tr>\n",
       "    <tr>\n",
       "      <th>1</th>\n",
       "      <td>1980-02-01</td>\n",
       "      <td>NaN</td>\n",
       "      <td>NaN</td>\n",
       "      <td>NaN</td>\n",
       "      <td>NaN</td>\n",
       "      <td>190.387928</td>\n",
       "      <td>83.048367</td>\n",
       "      <td>75.715154</td>\n",
       "      <td>88.345232</td>\n",
       "      <td>NaN</td>\n",
       "      <td>...</td>\n",
       "      <td>22.750000</td>\n",
       "      <td>24.689999</td>\n",
       "      <td>573.958609</td>\n",
       "      <td>233.094498</td>\n",
       "      <td>17090.213164</td>\n",
       "      <td>38.0</td>\n",
       "      <td>172.695236</td>\n",
       "      <td>568.154805</td>\n",
       "      <td>722.567093</td>\n",
       "      <td>868.620361</td>\n",
       "    </tr>\n",
       "    <tr>\n",
       "      <th>2</th>\n",
       "      <td>1980-03-01</td>\n",
       "      <td>NaN</td>\n",
       "      <td>NaN</td>\n",
       "      <td>NaN</td>\n",
       "      <td>NaN</td>\n",
       "      <td>194.060355</td>\n",
       "      <td>75.228895</td>\n",
       "      <td>69.002475</td>\n",
       "      <td>79.726312</td>\n",
       "      <td>NaN</td>\n",
       "      <td>...</td>\n",
       "      <td>19.630001</td>\n",
       "      <td>21.180000</td>\n",
       "      <td>535.284522</td>\n",
       "      <td>226.833298</td>\n",
       "      <td>17460.590400</td>\n",
       "      <td>35.0</td>\n",
       "      <td>163.509323</td>\n",
       "      <td>552.745109</td>\n",
       "      <td>695.956860</td>\n",
       "      <td>740.752441</td>\n",
       "    </tr>\n",
       "    <tr>\n",
       "      <th>3</th>\n",
       "      <td>1980-04-01</td>\n",
       "      <td>NaN</td>\n",
       "      <td>NaN</td>\n",
       "      <td>NaN</td>\n",
       "      <td>NaN</td>\n",
       "      <td>186.137888</td>\n",
       "      <td>72.471253</td>\n",
       "      <td>67.877108</td>\n",
       "      <td>75.789658</td>\n",
       "      <td>NaN</td>\n",
       "      <td>...</td>\n",
       "      <td>21.250000</td>\n",
       "      <td>22.669998</td>\n",
       "      <td>486.062957</td>\n",
       "      <td>221.806793</td>\n",
       "      <td>17041.712600</td>\n",
       "      <td>32.0</td>\n",
       "      <td>156.528030</td>\n",
       "      <td>510.650280</td>\n",
       "      <td>688.130355</td>\n",
       "      <td>707.683105</td>\n",
       "    </tr>\n",
       "    <tr>\n",
       "      <th>4</th>\n",
       "      <td>1980-05-01</td>\n",
       "      <td>NaN</td>\n",
       "      <td>NaN</td>\n",
       "      <td>NaN</td>\n",
       "      <td>NaN</td>\n",
       "      <td>185.070241</td>\n",
       "      <td>69.588103</td>\n",
       "      <td>65.879671</td>\n",
       "      <td>72.266748</td>\n",
       "      <td>NaN</td>\n",
       "      <td>...</td>\n",
       "      <td>30.939999</td>\n",
       "      <td>31.889999</td>\n",
       "      <td>502.763130</td>\n",
       "      <td>229.611206</td>\n",
       "      <td>17180.604736</td>\n",
       "      <td>32.0</td>\n",
       "      <td>161.304703</td>\n",
       "      <td>524.932443</td>\n",
       "      <td>720.760976</td>\n",
       "      <td>701.069092</td>\n",
       "    </tr>\n",
       "  </tbody>\n",
       "</table>\n",
       "<p>5 rows × 64 columns</p>\n",
       "</div>"
      ],
      "text/plain": [
       "         Date  All Commodity Price Index  Non-Fuel Price Index  \\\n",
       "0  1980-01-01                        NaN                   NaN   \n",
       "1  1980-02-01                        NaN                   NaN   \n",
       "2  1980-03-01                        NaN                   NaN   \n",
       "3  1980-04-01                        NaN                   NaN   \n",
       "4  1980-05-01                        NaN                   NaN   \n",
       "\n",
       "   Food and Beverage Price Index  Food Price Index  Beverage Price Index  \\\n",
       "0                            NaN               NaN            189.310021   \n",
       "1                            NaN               NaN            190.387928   \n",
       "2                            NaN               NaN            194.060355   \n",
       "3                            NaN               NaN            186.137888   \n",
       "4                            NaN               NaN            185.070241   \n",
       "\n",
       "   Industrial Inputs Price Index  Agricultural Raw Materials Index  \\\n",
       "0                      81.889650                         78.900146   \n",
       "1                      83.048367                         75.715154   \n",
       "2                      75.228895                         69.002475   \n",
       "3                      72.471253                         67.877108   \n",
       "4                      69.588103                         65.879671   \n",
       "\n",
       "   Metals Price Index  Fuel Energy Index  ...  Sugar Free Market  \\\n",
       "0           84.049004                NaN  ...          17.299999   \n",
       "1           88.345232                NaN  ...          22.750000   \n",
       "2           79.726312                NaN  ...          19.630001   \n",
       "3           75.789658                NaN  ...          21.250000   \n",
       "4           72.266748                NaN  ...          30.939999   \n",
       "\n",
       "   Sugar U.S. import price  Sunflower oil         Tea           Tin  Uranium  \\\n",
       "0                19.660000     566.926957  225.179901  16973.587904     40.0   \n",
       "1                24.689999     573.958609  233.094498  17090.213164     38.0   \n",
       "2                21.180000     535.284522  226.833298  17460.590400     35.0   \n",
       "3                22.669998     486.062957  221.806793  17041.712600     32.0   \n",
       "4                31.889999     502.763130  229.611206  17180.604736     32.0   \n",
       "\n",
       "        Wheat  Wool coarse   Wool fine        Zinc  \n",
       "0  175.634750   553.120940  684.277366  773.821533  \n",
       "1  172.695236   568.154805  722.567093  868.620361  \n",
       "2  163.509323   552.745109  695.956860  740.752441  \n",
       "3  156.528030   510.650280  688.130355  707.683105  \n",
       "4  161.304703   524.932443  720.760976  701.069092  \n",
       "\n",
       "[5 rows x 64 columns]"
      ]
     },
     "execution_count": 87,
     "metadata": {},
     "output_type": "execute_result"
    }
   ],
   "source": [
    "com=pd.read_csv('../Data/commodity-prices.csv')\n",
    "com.head()"
   ]
  },
  {
   "cell_type": "code",
   "execution_count": 88,
   "metadata": {},
   "outputs": [
    {
     "data": {
      "text/html": [
       "<div>\n",
       "<style scoped>\n",
       "    .dataframe tbody tr th:only-of-type {\n",
       "        vertical-align: middle;\n",
       "    }\n",
       "\n",
       "    .dataframe tbody tr th {\n",
       "        vertical-align: top;\n",
       "    }\n",
       "\n",
       "    .dataframe thead th {\n",
       "        text-align: right;\n",
       "    }\n",
       "</style>\n",
       "<table border=\"1\" class=\"dataframe\">\n",
       "  <thead>\n",
       "    <tr style=\"text-align: right;\">\n",
       "      <th></th>\n",
       "      <th>Date</th>\n",
       "      <th>Month</th>\n",
       "      <th>Industrial Inputs Price Index</th>\n",
       "      <th>Metals Price Index</th>\n",
       "      <th>Tin</th>\n",
       "      <th>Iron</th>\n",
       "      <th>Copper</th>\n",
       "    </tr>\n",
       "  </thead>\n",
       "  <tbody>\n",
       "    <tr>\n",
       "      <th>240</th>\n",
       "      <td>2000</td>\n",
       "      <td>01</td>\n",
       "      <td>78.322238</td>\n",
       "      <td>65.720969</td>\n",
       "      <td>5926.250000</td>\n",
       "      <td>12.450000</td>\n",
       "      <td>1843.850000</td>\n",
       "    </tr>\n",
       "    <tr>\n",
       "      <th>241</th>\n",
       "      <td>2000</td>\n",
       "      <td>01</td>\n",
       "      <td>79.311537</td>\n",
       "      <td>65.864263</td>\n",
       "      <td>5669.000000</td>\n",
       "      <td>12.450000</td>\n",
       "      <td>1807.025000</td>\n",
       "    </tr>\n",
       "    <tr>\n",
       "      <th>242</th>\n",
       "      <td>2000</td>\n",
       "      <td>01</td>\n",
       "      <td>79.102750</td>\n",
       "      <td>63.910408</td>\n",
       "      <td>5463.800000</td>\n",
       "      <td>12.450000</td>\n",
       "      <td>1739.800000</td>\n",
       "    </tr>\n",
       "    <tr>\n",
       "      <th>243</th>\n",
       "      <td>2000</td>\n",
       "      <td>01</td>\n",
       "      <td>77.116254</td>\n",
       "      <td>60.820925</td>\n",
       "      <td>5398.050000</td>\n",
       "      <td>12.450000</td>\n",
       "      <td>1681.907500</td>\n",
       "    </tr>\n",
       "    <tr>\n",
       "      <th>244</th>\n",
       "      <td>2000</td>\n",
       "      <td>01</td>\n",
       "      <td>78.393819</td>\n",
       "      <td>61.980053</td>\n",
       "      <td>5437.956522</td>\n",
       "      <td>12.450000</td>\n",
       "      <td>1785.097826</td>\n",
       "    </tr>\n",
       "    <tr>\n",
       "      <th>...</th>\n",
       "      <td>...</td>\n",
       "      <td>...</td>\n",
       "      <td>...</td>\n",
       "      <td>...</td>\n",
       "      <td>...</td>\n",
       "      <td>...</td>\n",
       "      <td>...</td>\n",
       "    </tr>\n",
       "    <tr>\n",
       "      <th>429</th>\n",
       "      <td>2015</td>\n",
       "      <td>01</td>\n",
       "      <td>115.852355</td>\n",
       "      <td>117.967173</td>\n",
       "      <td>15794.613636</td>\n",
       "      <td>52.740909</td>\n",
       "      <td>5216.090909</td>\n",
       "    </tr>\n",
       "    <tr>\n",
       "      <th>430</th>\n",
       "      <td>2015</td>\n",
       "      <td>01</td>\n",
       "      <td>109.299203</td>\n",
       "      <td>109.144832</td>\n",
       "      <td>14745.285714</td>\n",
       "      <td>46.161905</td>\n",
       "      <td>4799.904762</td>\n",
       "    </tr>\n",
       "    <tr>\n",
       "      <th>431</th>\n",
       "      <td>2015</td>\n",
       "      <td>01</td>\n",
       "      <td>106.886989</td>\n",
       "      <td>105.055460</td>\n",
       "      <td>14691.690476</td>\n",
       "      <td>39.604348</td>\n",
       "      <td>4638.833333</td>\n",
       "    </tr>\n",
       "    <tr>\n",
       "      <th>432</th>\n",
       "      <td>2016</td>\n",
       "      <td>01</td>\n",
       "      <td>105.821596</td>\n",
       "      <td>103.702530</td>\n",
       "      <td>13808.075000</td>\n",
       "      <td>41.252381</td>\n",
       "      <td>4471.787500</td>\n",
       "    </tr>\n",
       "    <tr>\n",
       "      <th>433</th>\n",
       "      <td>2016</td>\n",
       "      <td>01</td>\n",
       "      <td>108.876441</td>\n",
       "      <td>108.891411</td>\n",
       "      <td>15610.142857</td>\n",
       "      <td>46.176190</td>\n",
       "      <td>4598.619048</td>\n",
       "    </tr>\n",
       "  </tbody>\n",
       "</table>\n",
       "<p>194 rows × 7 columns</p>\n",
       "</div>"
      ],
      "text/plain": [
       "     Date Month  Industrial Inputs Price Index  Metals Price Index  \\\n",
       "240  2000    01                      78.322238           65.720969   \n",
       "241  2000    01                      79.311537           65.864263   \n",
       "242  2000    01                      79.102750           63.910408   \n",
       "243  2000    01                      77.116254           60.820925   \n",
       "244  2000    01                      78.393819           61.980053   \n",
       "..    ...   ...                            ...                 ...   \n",
       "429  2015    01                     115.852355          117.967173   \n",
       "430  2015    01                     109.299203          109.144832   \n",
       "431  2015    01                     106.886989          105.055460   \n",
       "432  2016    01                     105.821596          103.702530   \n",
       "433  2016    01                     108.876441          108.891411   \n",
       "\n",
       "              Tin       Iron       Copper  \n",
       "240   5926.250000  12.450000  1843.850000  \n",
       "241   5669.000000  12.450000  1807.025000  \n",
       "242   5463.800000  12.450000  1739.800000  \n",
       "243   5398.050000  12.450000  1681.907500  \n",
       "244   5437.956522  12.450000  1785.097826  \n",
       "..            ...        ...          ...  \n",
       "429  15794.613636  52.740909  5216.090909  \n",
       "430  14745.285714  46.161905  4799.904762  \n",
       "431  14691.690476  39.604348  4638.833333  \n",
       "432  13808.075000  41.252381  4471.787500  \n",
       "433  15610.142857  46.176190  4598.619048  \n",
       "\n",
       "[194 rows x 7 columns]"
      ]
     },
     "execution_count": 88,
     "metadata": {},
     "output_type": "execute_result"
    }
   ],
   "source": [
    "com['Month']=com['Date'].apply(lambda x:x[-2:])\n",
    "com['Date']=com['Date'].apply(lambda x:x[:-6])\n",
    "com = com[com['Date'].astype('int')>=2000]\n",
    "com = com[com['Date'].astype('int')<=2016]\n",
    "cols =['Date','Month','Industrial Inputs Price Index','Metals Price Index','Tin','Iron','Copper']\n",
    "com = com[cols]\n",
    "com"
   ]
  },
  {
   "cell_type": "code",
   "execution_count": 89,
   "metadata": {},
   "outputs": [
    {
     "data": {
      "text/html": [
       "<div>\n",
       "<style scoped>\n",
       "    .dataframe tbody tr th:only-of-type {\n",
       "        vertical-align: middle;\n",
       "    }\n",
       "\n",
       "    .dataframe tbody tr th {\n",
       "        vertical-align: top;\n",
       "    }\n",
       "\n",
       "    .dataframe thead th {\n",
       "        text-align: right;\n",
       "    }\n",
       "</style>\n",
       "<table border=\"1\" class=\"dataframe\">\n",
       "  <thead>\n",
       "    <tr style=\"text-align: right;\">\n",
       "      <th></th>\n",
       "      <th>CS</th>\n",
       "    </tr>\n",
       "    <tr>\n",
       "      <th>DATE</th>\n",
       "      <th></th>\n",
       "    </tr>\n",
       "  </thead>\n",
       "  <tbody>\n",
       "    <tr>\n",
       "      <th>2000</th>\n",
       "      <td>104.7385</td>\n",
       "    </tr>\n",
       "    <tr>\n",
       "      <th>2001</th>\n",
       "      <td>113.1430</td>\n",
       "    </tr>\n",
       "    <tr>\n",
       "      <th>2002</th>\n",
       "      <td>122.3490</td>\n",
       "    </tr>\n",
       "    <tr>\n",
       "      <th>2003</th>\n",
       "      <td>133.2115</td>\n",
       "    </tr>\n",
       "    <tr>\n",
       "      <th>2004</th>\n",
       "      <td>150.5930</td>\n",
       "    </tr>\n",
       "    <tr>\n",
       "      <th>2005</th>\n",
       "      <td>172.0245</td>\n",
       "    </tr>\n",
       "    <tr>\n",
       "      <th>2006</th>\n",
       "      <td>183.3965</td>\n",
       "    </tr>\n",
       "    <tr>\n",
       "      <th>2007</th>\n",
       "      <td>179.6835</td>\n",
       "    </tr>\n",
       "    <tr>\n",
       "      <th>2008</th>\n",
       "      <td>164.2930</td>\n",
       "    </tr>\n",
       "    <tr>\n",
       "      <th>2009</th>\n",
       "      <td>148.1100</td>\n",
       "    </tr>\n",
       "    <tr>\n",
       "      <th>2010</th>\n",
       "      <td>145.3095</td>\n",
       "    </tr>\n",
       "    <tr>\n",
       "      <th>2011</th>\n",
       "      <td>139.7965</td>\n",
       "    </tr>\n",
       "    <tr>\n",
       "      <th>2012</th>\n",
       "      <td>141.3505</td>\n",
       "    </tr>\n",
       "    <tr>\n",
       "      <th>2013</th>\n",
       "      <td>154.9070</td>\n",
       "    </tr>\n",
       "    <tr>\n",
       "      <th>2014</th>\n",
       "      <td>164.3195</td>\n",
       "    </tr>\n",
       "    <tr>\n",
       "      <th>2015</th>\n",
       "      <td>171.8050</td>\n",
       "    </tr>\n",
       "    <tr>\n",
       "      <th>2016</th>\n",
       "      <td>180.4865</td>\n",
       "    </tr>\n",
       "  </tbody>\n",
       "</table>\n",
       "</div>"
      ],
      "text/plain": [
       "            CS\n",
       "DATE          \n",
       "2000  104.7385\n",
       "2001  113.1430\n",
       "2002  122.3490\n",
       "2003  133.2115\n",
       "2004  150.5930\n",
       "2005  172.0245\n",
       "2006  183.3965\n",
       "2007  179.6835\n",
       "2008  164.2930\n",
       "2009  148.1100\n",
       "2010  145.3095\n",
       "2011  139.7965\n",
       "2012  141.3505\n",
       "2013  154.9070\n",
       "2014  164.3195\n",
       "2015  171.8050\n",
       "2016  180.4865"
      ]
     },
     "execution_count": 89,
     "metadata": {},
     "output_type": "execute_result"
    }
   ],
   "source": [
    "case=case.groupby(['DATE']).median()\n",
    "case"
   ]
  },
  {
   "cell_type": "code",
   "execution_count": 90,
   "metadata": {},
   "outputs": [
    {
     "data": {
      "text/html": [
       "<div>\n",
       "<style scoped>\n",
       "    .dataframe tbody tr th:only-of-type {\n",
       "        vertical-align: middle;\n",
       "    }\n",
       "\n",
       "    .dataframe tbody tr th {\n",
       "        vertical-align: top;\n",
       "    }\n",
       "\n",
       "    .dataframe thead th {\n",
       "        text-align: right;\n",
       "    }\n",
       "</style>\n",
       "<table border=\"1\" class=\"dataframe\">\n",
       "  <thead>\n",
       "    <tr style=\"text-align: right;\">\n",
       "      <th></th>\n",
       "      <th>Industrial Inputs Price Index</th>\n",
       "      <th>Metals Price Index</th>\n",
       "      <th>Tin</th>\n",
       "      <th>Iron</th>\n",
       "      <th>Copper</th>\n",
       "    </tr>\n",
       "    <tr>\n",
       "      <th>Date</th>\n",
       "      <th></th>\n",
       "      <th></th>\n",
       "      <th></th>\n",
       "      <th></th>\n",
       "      <th></th>\n",
       "    </tr>\n",
       "  </thead>\n",
       "  <tbody>\n",
       "    <tr>\n",
       "      <th>2000</th>\n",
       "      <td>77.213955</td>\n",
       "      <td>62.160921</td>\n",
       "      <td>5418.003261</td>\n",
       "      <td>12.45</td>\n",
       "      <td>1805.083929</td>\n",
       "    </tr>\n",
       "    <tr>\n",
       "      <th>2001</th>\n",
       "      <td>74.469547</td>\n",
       "      <td>56.333179</td>\n",
       "      <td>4586.747835</td>\n",
       "      <td>12.99</td>\n",
       "      <td>1568.619751</td>\n",
       "    </tr>\n",
       "    <tr>\n",
       "      <th>2002</th>\n",
       "      <td>72.061547</td>\n",
       "      <td>54.533622</td>\n",
       "      <td>4089.647186</td>\n",
       "      <td>12.68</td>\n",
       "      <td>1584.660248</td>\n",
       "    </tr>\n",
       "    <tr>\n",
       "      <th>2003</th>\n",
       "      <td>73.983671</td>\n",
       "      <td>59.215835</td>\n",
       "      <td>4733.630435</td>\n",
       "      <td>13.82</td>\n",
       "      <td>1698.966615</td>\n",
       "    </tr>\n",
       "    <tr>\n",
       "      <th>2004</th>\n",
       "      <td>89.238946</td>\n",
       "      <td>81.359232</td>\n",
       "      <td>9018.555195</td>\n",
       "      <td>16.39</td>\n",
       "      <td>2873.688745</td>\n",
       "    </tr>\n",
       "  </tbody>\n",
       "</table>\n",
       "</div>"
      ],
      "text/plain": [
       "      Industrial Inputs Price Index  Metals Price Index          Tin   Iron  \\\n",
       "Date                                                                          \n",
       "2000                      77.213955           62.160921  5418.003261  12.45   \n",
       "2001                      74.469547           56.333179  4586.747835  12.99   \n",
       "2002                      72.061547           54.533622  4089.647186  12.68   \n",
       "2003                      73.983671           59.215835  4733.630435  13.82   \n",
       "2004                      89.238946           81.359232  9018.555195  16.39   \n",
       "\n",
       "           Copper  \n",
       "Date               \n",
       "2000  1805.083929  \n",
       "2001  1568.619751  \n",
       "2002  1584.660248  \n",
       "2003  1698.966615  \n",
       "2004  2873.688745  "
      ]
     },
     "execution_count": 90,
     "metadata": {},
     "output_type": "execute_result"
    }
   ],
   "source": [
    "com=com.groupby(['Date']).median()\n",
    "com.head()"
   ]
  },
  {
   "cell_type": "code",
   "execution_count": 126,
   "metadata": {},
   "outputs": [],
   "source": [
    "def plottinga(commodity):\n",
    "    corr, _ = pearsonr(case['CS'], com[commodity])\n",
    "    print('Pearsons correlation: %.3f' % corr)\n",
    "    ax=com[commodity].plot(color='r' ,label = 'Price Index')\n",
    "    ax.set_title('Case Schiller Price Vs Price Index of {}'.format(commodity))\n",
    "    sns.set_style(\"whitegrid\", {'axes.grid' : False})\n",
    "    ax2=ax.twinx()\n",
    "    ax2.plot(case.index, case['CS'] ,color='green',label = 'Mortgage')\n",
    "    \n",
    "    ax.set_xlim(1,)\n",
    "    ax.legend(loc=1)\n",
    "    ax2.legend(loc=2)\n",
    "    return ax"
   ]
  },
  {
   "cell_type": "code",
   "execution_count": 127,
   "metadata": {},
   "outputs": [
    {
     "name": "stdout",
     "output_type": "stream",
     "text": [
      "Pearsons correlation: 0.342\n"
     ]
    },
    {
     "name": "stderr",
     "output_type": "stream",
     "text": [
      "C:\\Users\\ADMIN\\anaconda3\\lib\\site-packages\\pandas\\plotting\\_matplotlib\\core.py:1192: UserWarning: FixedFormatter should only be used together with FixedLocator\n",
      "  ax.set_xticklabels(xticklabels)\n"
     ]
    },
    {
     "data": {
      "text/plain": [
       "<AxesSubplot:title={'center':'Case Schiller Price Vs Price Index of Tin'}, xlabel='Date'>"
      ]
     },
     "execution_count": 127,
     "metadata": {},
     "output_type": "execute_result"
    },
    {
     "data": {
      "image/png": "[encoded data removed]",
      "text/plain": [
       "<Figure size 432x288 with 2 Axes>"
      ]
     },
     "metadata": {
      "needs_background": "light"
     },
     "output_type": "display_data"
    }
   ],
   "source": [
    "plottinga('Tin')"
   ]
  },
  {
   "cell_type": "code",
   "execution_count": 128,
   "metadata": {},
   "outputs": [
    {
     "name": "stdout",
     "output_type": "stream",
     "text": [
      "Pearsons correlation: 0.439\n"
     ]
    },
    {
     "name": "stderr",
     "output_type": "stream",
     "text": [
      "C:\\Users\\ADMIN\\anaconda3\\lib\\site-packages\\pandas\\plotting\\_matplotlib\\core.py:1192: UserWarning: FixedFormatter should only be used together with FixedLocator\n",
      "  ax.set_xticklabels(xticklabels)\n"
     ]
    },
    {
     "data": {
      "text/plain": [
       "<AxesSubplot:title={'center':'Case Schiller Price Vs Price Index of Metals Price Index'}, xlabel='Date'>"
      ]
     },
     "execution_count": 128,
     "metadata": {},
     "output_type": "execute_result"
    },
    {
     "data": {
      "image/png": "[encoded data removed]",
      "text/plain": [
       "<Figure size 432x288 with 2 Axes>"
      ]
     },
     "metadata": {},
     "output_type": "display_data"
    }
   ],
   "source": [
    "plottinga('Metals Price Index')"
   ]
  },
  {
   "cell_type": "code",
   "execution_count": 129,
   "metadata": {},
   "outputs": [
    {
     "name": "stdout",
     "output_type": "stream",
     "text": [
      "Pearsons correlation: 0.405\n"
     ]
    },
    {
     "name": "stderr",
     "output_type": "stream",
     "text": [
      "C:\\Users\\ADMIN\\anaconda3\\lib\\site-packages\\pandas\\plotting\\_matplotlib\\core.py:1192: UserWarning: FixedFormatter should only be used together with FixedLocator\n",
      "  ax.set_xticklabels(xticklabels)\n"
     ]
    },
    {
     "data": {
      "text/plain": [
       "<AxesSubplot:title={'center':'Case Schiller Price Vs Price Index of Industrial Inputs Price Index'}, xlabel='Date'>"
      ]
     },
     "execution_count": 129,
     "metadata": {},
     "output_type": "execute_result"
    },
    {
     "data": {
      "image/png": "[encoded data removed]",
      "text/plain": [
       "<Figure size 432x288 with 2 Axes>"
      ]
     },
     "metadata": {},
     "output_type": "display_data"
    }
   ],
   "source": [
    "plottinga('Industrial Inputs Price Index')"
   ]
  },
  {
   "cell_type": "code",
   "execution_count": 130,
   "metadata": {},
   "outputs": [
    {
     "name": "stdout",
     "output_type": "stream",
     "text": [
      "Pearsons correlation: 0.439\n"
     ]
    },
    {
     "name": "stderr",
     "output_type": "stream",
     "text": [
      "C:\\Users\\ADMIN\\anaconda3\\lib\\site-packages\\pandas\\plotting\\_matplotlib\\core.py:1192: UserWarning: FixedFormatter should only be used together with FixedLocator\n",
      "  ax.set_xticklabels(xticklabels)\n"
     ]
    },
    {
     "data": {
      "text/plain": [
       "<AxesSubplot:title={'center':'Case Schiller Price Vs Price Index of Metals Price Index'}, xlabel='Date'>"
      ]
     },
     "execution_count": 130,
     "metadata": {},
     "output_type": "execute_result"
    },
    {
     "data": {
      "image/png": "[encoded data removed]",
      "text/plain": [
       "<Figure size 432x288 with 2 Axes>"
      ]
     },
     "metadata": {},
     "output_type": "display_data"
    }
   ],
   "source": [
    "plottinga('Metals Price Index')"
   ]
  },
  {
   "cell_type": "code",
   "execution_count": 131,
   "metadata": {},
   "outputs": [
    {
     "name": "stdout",
     "output_type": "stream",
     "text": [
      "Pearsons correlation: 0.533\n"
     ]
    },
    {
     "name": "stderr",
     "output_type": "stream",
     "text": [
      "C:\\Users\\ADMIN\\anaconda3\\lib\\site-packages\\pandas\\plotting\\_matplotlib\\core.py:1192: UserWarning: FixedFormatter should only be used together with FixedLocator\n",
      "  ax.set_xticklabels(xticklabels)\n"
     ]
    },
    {
     "data": {
      "text/plain": [
       "<AxesSubplot:title={'center':'Case Schiller Price Vs Price Index of Copper'}, xlabel='Date'>"
      ]
     },
     "execution_count": 131,
     "metadata": {},
     "output_type": "execute_result"
    },
    {
     "data": {
      "image/png": "[encoded data removed]",
      "text/plain": [
       "<Figure size 432x288 with 2 Axes>"
      ]
     },
     "metadata": {},
     "output_type": "display_data"
    }
   ],
   "source": [
    "plottinga('Copper')"
   ]
  }
 ],
 "metadata": {
  "interpreter": {
   "hash": "95c10dbc6f7eccef0c1ace84822d618f7863d3bc26cab307fc0169bb43c23fbe"
  },
  "kernelspec": {
   "display_name": "Python 3.8.5 ('base')",
   "language": "python",
   "name": "python3"
  },
  "language_info": {
   "codemirror_mode": {
    "name": "ipython",
    "version": 3
   },
   "file_extension": ".py",
   "mimetype": "text/x-python",
   "name": "python",
   "nbconvert_exporter": "python",
   "pygments_lexer": "ipython3",
   "version": "3.8.5"
  },
  "orig_nbformat": 4
 },
 "nbformat": 4,
 "nbformat_minor": 2
}
