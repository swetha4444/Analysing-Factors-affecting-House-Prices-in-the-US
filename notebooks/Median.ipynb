{
  "cells": [
    {
      "cell_type": "code",
      "execution_count": 1,
      "metadata": {
        "id": "v-11L2WvdqUs"
      },
      "outputs": [],
      "source": [
        "import numpy as np\n",
        "import pandas as pd\n",
        "import matplotlib.pyplot as plt\n",
        "from scipy.stats import norm\n",
        "import matplotlib.mlab as mlab\n",
        "from matplotlib import pylab\n",
        "import seaborn as sns\n",
        "%matplotlib inline"
      ]
    },
    {
      "cell_type": "code",
      "source": [
        "df=pd.read_csv('City_MedianListingPrice_AllHomes.csv')\n",
        "df=df.set_index('SizeRank')\n",
        "df.head()"
      ],
      "metadata": {
        "colab": {
          "base_uri": "https://localhost:8080/",
          "height": 417
        },
        "id": "-o6rKRGmhIqJ",
        "outputId": "ba2bcf29-d3f9-4e9e-e9e2-0b1ac8fecf69"
      },
      "execution_count": 30,
      "outputs": [
        {
          "output_type": "execute_result",
          "data": {
            "text/html": [
              "\n",
              "  <div id=\"df-0e0768e5-e2f6-4814-8433-dd59191796fe\">\n",
              "    <div class=\"colab-df-container\">\n",
              "      <div>\n",
              "<style scoped>\n",
              "    .dataframe tbody tr th:only-of-type {\n",
              "        vertical-align: middle;\n",
              "    }\n",
              "\n",
              "    .dataframe tbody tr th {\n",
              "        vertical-align: top;\n",
              "    }\n",
              "\n",
              "    .dataframe thead th {\n",
              "        text-align: right;\n",
              "    }\n",
              "</style>\n",
              "<table border=\"1\" class=\"dataframe\">\n",
              "  <thead>\n",
              "    <tr style=\"text-align: right;\">\n",
              "      <th></th>\n",
              "      <th>RegionName</th>\n",
              "      <th>State</th>\n",
              "      <th>Metro</th>\n",
              "      <th>CountyName</th>\n",
              "      <th>2010-01</th>\n",
              "      <th>2010-02</th>\n",
              "      <th>2010-03</th>\n",
              "      <th>2010-04</th>\n",
              "      <th>2010-05</th>\n",
              "      <th>2010-06</th>\n",
              "      <th>...</th>\n",
              "      <th>2016-05</th>\n",
              "      <th>2016-06</th>\n",
              "      <th>2016-07</th>\n",
              "      <th>2016-08</th>\n",
              "      <th>2016-09</th>\n",
              "      <th>2016-10</th>\n",
              "      <th>2016-11</th>\n",
              "      <th>2016-12</th>\n",
              "      <th>2017-01</th>\n",
              "      <th>2017-02</th>\n",
              "    </tr>\n",
              "    <tr>\n",
              "      <th>SizeRank</th>\n",
              "      <th></th>\n",
              "      <th></th>\n",
              "      <th></th>\n",
              "      <th></th>\n",
              "      <th></th>\n",
              "      <th></th>\n",
              "      <th></th>\n",
              "      <th></th>\n",
              "      <th></th>\n",
              "      <th></th>\n",
              "      <th></th>\n",
              "      <th></th>\n",
              "      <th></th>\n",
              "      <th></th>\n",
              "      <th></th>\n",
              "      <th></th>\n",
              "      <th></th>\n",
              "      <th></th>\n",
              "      <th></th>\n",
              "      <th></th>\n",
              "      <th></th>\n",
              "    </tr>\n",
              "  </thead>\n",
              "  <tbody>\n",
              "    <tr>\n",
              "      <th>1</th>\n",
              "      <td>New York</td>\n",
              "      <td>NY</td>\n",
              "      <td>New York</td>\n",
              "      <td>Queens</td>\n",
              "      <td>NaN</td>\n",
              "      <td>NaN</td>\n",
              "      <td>NaN</td>\n",
              "      <td>NaN</td>\n",
              "      <td>NaN</td>\n",
              "      <td>NaN</td>\n",
              "      <td>...</td>\n",
              "      <td>709000.0</td>\n",
              "      <td>715000.0</td>\n",
              "      <td>718800.0</td>\n",
              "      <td>699000.0</td>\n",
              "      <td>699000.0</td>\n",
              "      <td>716000.0</td>\n",
              "      <td>725000.0</td>\n",
              "      <td>719000.0</td>\n",
              "      <td>715000.0</td>\n",
              "      <td>735000.0</td>\n",
              "    </tr>\n",
              "    <tr>\n",
              "      <th>2</th>\n",
              "      <td>Los Angeles</td>\n",
              "      <td>CA</td>\n",
              "      <td>Los Angeles-Long Beach-Anaheim</td>\n",
              "      <td>Los Angeles</td>\n",
              "      <td>NaN</td>\n",
              "      <td>NaN</td>\n",
              "      <td>NaN</td>\n",
              "      <td>NaN</td>\n",
              "      <td>NaN</td>\n",
              "      <td>NaN</td>\n",
              "      <td>...</td>\n",
              "      <td>690000.0</td>\n",
              "      <td>699000.0</td>\n",
              "      <td>699000.0</td>\n",
              "      <td>699000.0</td>\n",
              "      <td>699000.0</td>\n",
              "      <td>699000.0</td>\n",
              "      <td>709000.0</td>\n",
              "      <td>699900.0</td>\n",
              "      <td>704000.0</td>\n",
              "      <td>708950.0</td>\n",
              "    </tr>\n",
              "    <tr>\n",
              "      <th>3</th>\n",
              "      <td>Chicago</td>\n",
              "      <td>IL</td>\n",
              "      <td>Chicago</td>\n",
              "      <td>Cook</td>\n",
              "      <td>NaN</td>\n",
              "      <td>NaN</td>\n",
              "      <td>NaN</td>\n",
              "      <td>NaN</td>\n",
              "      <td>NaN</td>\n",
              "      <td>NaN</td>\n",
              "      <td>...</td>\n",
              "      <td>275000.0</td>\n",
              "      <td>275000.0</td>\n",
              "      <td>270000.0</td>\n",
              "      <td>269000.0</td>\n",
              "      <td>270000.0</td>\n",
              "      <td>269900.0</td>\n",
              "      <td>265000.0</td>\n",
              "      <td>250000.0</td>\n",
              "      <td>255000.0</td>\n",
              "      <td>275000.0</td>\n",
              "    </tr>\n",
              "    <tr>\n",
              "      <th>4</th>\n",
              "      <td>Houston</td>\n",
              "      <td>TX</td>\n",
              "      <td>Houston</td>\n",
              "      <td>Harris</td>\n",
              "      <td>NaN</td>\n",
              "      <td>NaN</td>\n",
              "      <td>NaN</td>\n",
              "      <td>NaN</td>\n",
              "      <td>NaN</td>\n",
              "      <td>NaN</td>\n",
              "      <td>...</td>\n",
              "      <td>329900.0</td>\n",
              "      <td>330000.0</td>\n",
              "      <td>329000.0</td>\n",
              "      <td>329000.0</td>\n",
              "      <td>323990.0</td>\n",
              "      <td>317375.0</td>\n",
              "      <td>315000.0</td>\n",
              "      <td>309995.0</td>\n",
              "      <td>301990.0</td>\n",
              "      <td>309900.0</td>\n",
              "    </tr>\n",
              "    <tr>\n",
              "      <th>5</th>\n",
              "      <td>Philadelphia</td>\n",
              "      <td>PA</td>\n",
              "      <td>Philadelphia</td>\n",
              "      <td>Philadelphia</td>\n",
              "      <td>NaN</td>\n",
              "      <td>NaN</td>\n",
              "      <td>NaN</td>\n",
              "      <td>NaN</td>\n",
              "      <td>NaN</td>\n",
              "      <td>NaN</td>\n",
              "      <td>...</td>\n",
              "      <td>159900.0</td>\n",
              "      <td>159900.0</td>\n",
              "      <td>156900.0</td>\n",
              "      <td>150000.0</td>\n",
              "      <td>152000.0</td>\n",
              "      <td>158950.0</td>\n",
              "      <td>150000.0</td>\n",
              "      <td>149900.0</td>\n",
              "      <td>150000.0</td>\n",
              "      <td>150000.0</td>\n",
              "    </tr>\n",
              "  </tbody>\n",
              "</table>\n",
              "<p>5 rows × 90 columns</p>\n",
              "</div>\n",
              "      <button class=\"colab-df-convert\" onclick=\"convertToInteractive('df-0e0768e5-e2f6-4814-8433-dd59191796fe')\"\n",
              "              title=\"Convert this dataframe to an interactive table.\"\n",
              "              style=\"display:none;\">\n",
              "        \n",
              "  <svg xmlns=\"http://www.w3.org/2000/svg\" height=\"24px\"viewBox=\"0 0 24 24\"\n",
              "       width=\"24px\">\n",
              "    <path d=\"M0 0h24v24H0V0z\" fill=\"none\"/>\n",
              "    <path d=\"M18.56 5.44l.94 2.06.94-2.06 2.06-.94-2.06-.94-.94-2.06-.94 2.06-2.06.94zm-11 1L8.5 8.5l.94-2.06 2.06-.94-2.06-.94L8.5 2.5l-.94 2.06-2.06.94zm10 10l.94 2.06.94-2.06 2.06-.94-2.06-.94-.94-2.06-.94 2.06-2.06.94z\"/><path d=\"M17.41 7.96l-1.37-1.37c-.4-.4-.92-.59-1.43-.59-.52 0-1.04.2-1.43.59L10.3 9.45l-7.72 7.72c-.78.78-.78 2.05 0 2.83L4 21.41c.39.39.9.59 1.41.59.51 0 1.02-.2 1.41-.59l7.78-7.78 2.81-2.81c.8-.78.8-2.07 0-2.86zM5.41 20L4 18.59l7.72-7.72 1.47 1.35L5.41 20z\"/>\n",
              "  </svg>\n",
              "      </button>\n",
              "      \n",
              "  <style>\n",
              "    .colab-df-container {\n",
              "      display:flex;\n",
              "      flex-wrap:wrap;\n",
              "      gap: 12px;\n",
              "    }\n",
              "\n",
              "    .colab-df-convert {\n",
              "      background-color: #E8F0FE;\n",
              "      border: none;\n",
              "      border-radius: 50%;\n",
              "      cursor: pointer;\n",
              "      display: none;\n",
              "      fill: #1967D2;\n",
              "      height: 32px;\n",
              "      padding: 0 0 0 0;\n",
              "      width: 32px;\n",
              "    }\n",
              "\n",
              "    .colab-df-convert:hover {\n",
              "      background-color: #E2EBFA;\n",
              "      box-shadow: 0px 1px 2px rgba(60, 64, 67, 0.3), 0px 1px 3px 1px rgba(60, 64, 67, 0.15);\n",
              "      fill: #174EA6;\n",
              "    }\n",
              "\n",
              "    [theme=dark] .colab-df-convert {\n",
              "      background-color: #3B4455;\n",
              "      fill: #D2E3FC;\n",
              "    }\n",
              "\n",
              "    [theme=dark] .colab-df-convert:hover {\n",
              "      background-color: #434B5C;\n",
              "      box-shadow: 0px 1px 3px 1px rgba(0, 0, 0, 0.15);\n",
              "      filter: drop-shadow(0px 1px 2px rgba(0, 0, 0, 0.3));\n",
              "      fill: #FFFFFF;\n",
              "    }\n",
              "  </style>\n",
              "\n",
              "      <script>\n",
              "        const buttonEl =\n",
              "          document.querySelector('#df-0e0768e5-e2f6-4814-8433-dd59191796fe button.colab-df-convert');\n",
              "        buttonEl.style.display =\n",
              "          google.colab.kernel.accessAllowed ? 'block' : 'none';\n",
              "\n",
              "        async function convertToInteractive(key) {\n",
              "          const element = document.querySelector('#df-0e0768e5-e2f6-4814-8433-dd59191796fe');\n",
              "          const dataTable =\n",
              "            await google.colab.kernel.invokeFunction('convertToInteractive',\n",
              "                                                     [key], {});\n",
              "          if (!dataTable) return;\n",
              "\n",
              "          const docLinkHtml = 'Like what you see? Visit the ' +\n",
              "            '<a target=\"_blank\" href=https://colab.research.google.com/notebooks/data_table.ipynb>data table notebook</a>'\n",
              "            + ' to learn more about interactive tables.';\n",
              "          element.innerHTML = '';\n",
              "          dataTable['output_type'] = 'display_data';\n",
              "          await google.colab.output.renderOutput(dataTable, element);\n",
              "          const docLink = document.createElement('div');\n",
              "          docLink.innerHTML = docLinkHtml;\n",
              "          element.appendChild(docLink);\n",
              "        }\n",
              "      </script>\n",
              "    </div>\n",
              "  </div>\n",
              "  "
            ],
            "text/plain": [
              "            RegionName State                           Metro    CountyName  \\\n",
              "SizeRank                                                                     \n",
              "1             New York    NY                        New York        Queens   \n",
              "2          Los Angeles    CA  Los Angeles-Long Beach-Anaheim   Los Angeles   \n",
              "3              Chicago    IL                         Chicago          Cook   \n",
              "4              Houston    TX                         Houston        Harris   \n",
              "5         Philadelphia    PA                    Philadelphia  Philadelphia   \n",
              "\n",
              "          2010-01  2010-02  2010-03  2010-04  2010-05  2010-06  ...   2016-05  \\\n",
              "SizeRank                                                        ...             \n",
              "1             NaN      NaN      NaN      NaN      NaN      NaN  ...  709000.0   \n",
              "2             NaN      NaN      NaN      NaN      NaN      NaN  ...  690000.0   \n",
              "3             NaN      NaN      NaN      NaN      NaN      NaN  ...  275000.0   \n",
              "4             NaN      NaN      NaN      NaN      NaN      NaN  ...  329900.0   \n",
              "5             NaN      NaN      NaN      NaN      NaN      NaN  ...  159900.0   \n",
              "\n",
              "           2016-06   2016-07   2016-08   2016-09   2016-10   2016-11  \\\n",
              "SizeRank                                                               \n",
              "1         715000.0  718800.0  699000.0  699000.0  716000.0  725000.0   \n",
              "2         699000.0  699000.0  699000.0  699000.0  699000.0  709000.0   \n",
              "3         275000.0  270000.0  269000.0  270000.0  269900.0  265000.0   \n",
              "4         330000.0  329000.0  329000.0  323990.0  317375.0  315000.0   \n",
              "5         159900.0  156900.0  150000.0  152000.0  158950.0  150000.0   \n",
              "\n",
              "           2016-12   2017-01   2017-02  \n",
              "SizeRank                                \n",
              "1         719000.0  715000.0  735000.0  \n",
              "2         699900.0  704000.0  708950.0  \n",
              "3         250000.0  255000.0  275000.0  \n",
              "4         309995.0  301990.0  309900.0  \n",
              "5         149900.0  150000.0  150000.0  \n",
              "\n",
              "[5 rows x 90 columns]"
            ]
          },
          "metadata": {},
          "execution_count": 30
        }
      ]
    },
    {
      "cell_type": "code",
      "source": [
        "#total change from 2010-01 to 2017-02\n",
        "df['Total Change'] = df.loc[:,'2017-02'] - df.loc[:,'2010-01']\n",
        "df['Percent Change'] = (df.loc[:,'2017-02'] - df.loc[:,'2010-01']) / df.loc[:,'2010-01']\n",
        "#Last one year change starting from 2016-02 to 2017-02\n",
        "df['Year Change'] = df.loc[:,'2017-02'] - df.loc[:,'2016-02']\n",
        "df['Year Percent Change'] = (df.loc[:,'2017-02'] - df.loc[:,'2016-02']) / df.loc[:,'2016-02']"
      ],
      "metadata": {
        "id": "OK2A8aLyhN5_"
      },
      "execution_count": 41,
      "outputs": []
    },
    {
      "cell_type": "code",
      "source": [
        "df = df.fillna(0)"
      ],
      "metadata": {
        "id": "UCS_8GZwjMa3"
      },
      "execution_count": 43,
      "outputs": []
    },
    {
      "cell_type": "code",
      "source": [
        "def plotr(data, group, column, bins=100):\n",
        "    plot = df.groupby(group)[column].mean().plot(kind='hist', bins=bins)\n",
        "    (mu, sigma) = norm.fit(df[column])\n",
        "    y = mlab.normpdf( bins, mu, sigma)\n",
        "    l = plt.plot(bins, y, 'r--', linewidth=2)\n",
        "    \n",
        "    plt.title('Mean {} Grouped by {}'.format(column, group))\n",
        "    plt.xlabel(column)\n",
        "    plt.ylabel('Numer of Occurrences')\n",
        "    \n",
        "    mn = df[column].mean()\n",
        "    plt.axvline(mn, color='r', linestyle='dashed', linewidth=1, label='mean')\n",
        "    plt.legend()\n",
        "    return plot"
      ],
      "metadata": {
        "id": "x3I9VTTqhRbK"
      },
      "execution_count": 4,
      "outputs": []
    },
    {
      "cell_type": "code",
      "source": [
        "#Intialization of bin\n",
        "bins=35\n",
        "#Plotting histogram plot\n",
        "plot = df.groupby('RegionName')['Total Change'].mean().plot(kind='hist', bins=bins)\n",
        "#Here i used Fit a normal distribution to the data # took help of stackoverflow\n",
        "(mu, sigma) = norm.fit(df['Total Change'].astype(int))\n",
        "#Used above normal distribution to plot it.\n",
        "y = norm.pdf( bins, mu, sigma)\n",
        "l = plt.plot(bins, y, 'r--', linewidth=5)\n",
        "#Set the title\n",
        "plt.title('Mean Total Change Grouped by City')\n",
        "#Set xlabel\n",
        "plt.xlabel('Total Change')\n",
        "#Set ylabel\n",
        "plt.ylabel('Numer of Occurrences')\n",
        "mn = df['Total Change'].mean()\n",
        "plt.axvline(mn, color='r', linestyle='dashed', linewidth=1, label='mean')\n",
        "plt.legend()\n",
        "x = plt.gca().xaxis\n",
        "\n",
        "# rotate the tick labels for the x axis\n",
        "for item in x.get_ticklabels():\n",
        "    item.set_rotation(45)\n"
      ],
      "metadata": {
        "colab": {
          "base_uri": "https://localhost:8080/",
          "height": 310
        },
        "id": "y9aeggS4i5jt",
        "outputId": "d0c2360c-c3f8-4584-a1a7-dcc25b12028b"
      },
      "execution_count": 29,
      "outputs": [
        {
          "output_type": "display_data",
          "data": {
            "image/png": "[encoded data removed]",
            "text/plain": [
              "<Figure size 432x288 with 1 Axes>"
            ]
          },
          "metadata": {
            "needs_background": "light"
          }
        }
      ]
    },
    {
      "cell_type": "code",
      "source": [
        "bins=100\n",
        "#Plotting histogram plot\n",
        "plot = df.groupby('Metro')['Total Change'].mean().plot(kind='hist', bins=bins)\n",
        "#Here i used Fit a normal distribution to the data # took help of stackoverflow\n",
        "(mu, sigma) = norm.fit(df['Total Change'].astype(int))\n",
        "#Used above normal distribution to plot it.\n",
        "y = norm.pdf( bins, mu, sigma)\n",
        "l = plt.plot(bins, y, 'r--', linewidth=2)\n",
        "#Set the title\n",
        "plt.title('Mean Total Change Grouped by Metro')\n",
        "#Set xlabel\n",
        "plt.xlabel('Total Change')\n",
        "#Set ylabel\n",
        "plt.ylabel('Numer of Occurrences')\n",
        "mn = df['Total Change'].mean()\n",
        "plt.axvline(mn, color='r', linestyle='dashed', linewidth=1, label='mean')\n",
        "plt.legend()\n",
        "# plotr(df, 'Metro', 'Total Change',bins=50)"
      ],
      "metadata": {
        "colab": {
          "base_uri": "https://localhost:8080/",
          "height": 316
        },
        "id": "MVsqC8MVj_Tr",
        "outputId": "27637ed6-a24f-4fdd-ad2e-0ae11599d07d"
      },
      "execution_count": 35,
      "outputs": [
        {
          "output_type": "execute_result",
          "data": {
            "text/plain": [
              "<matplotlib.legend.Legend at 0x7fe07531d3d0>"
            ]
          },
          "metadata": {},
          "execution_count": 35
        },
        {
          "output_type": "display_data",
          "data": {
            "image/png": "[encoded data removed]",
            "text/plain": [
              "<Figure size 432x288 with 1 Axes>"
            ]
          },
          "metadata": {
            "needs_background": "light"
          }
        }
      ]
    },
    {
      "cell_type": "code",
      "source": [
        "bins=55\n",
        "#Plotting histogram plot\n",
        "plot = df.groupby('State')['Total Change'].mean().plot(kind='hist', bins=bins)\n",
        "#Here i used Fit a normal distribution to the data # took help of stackoverflow\n",
        "(mu, sigma) = norm.fit(df['Total Change'].astype('int'))\n",
        "#Used above normal distribution to plot it.\n",
        "y = norm.pdf( bins, mu, sigma)\n",
        "l = plt.plot(bins, y, 'r--', linewidth=2)\n",
        "#Set the title\n",
        "plt.title('Mean Total Change Grouped by State')\n",
        "#Set xlabel\n",
        "plt.xlabel('Total Change')\n",
        "#Set ylabel\n",
        "plt.ylabel('Numer of Occurrences')\n",
        "mn = df['Total Change'].mean()\n",
        "plt.axvline(mn, color='r', linestyle='dashed', linewidth=1, label='mean')\n",
        "plt.legend()"
      ],
      "metadata": {
        "colab": {
          "base_uri": "https://localhost:8080/",
          "height": 316
        },
        "id": "y42yWDPtkI_t",
        "outputId": "f4e588b0-a585-4bf1-e442-2d9cbf6f09fb"
      },
      "execution_count": 36,
      "outputs": [
        {
          "output_type": "execute_result",
          "data": {
            "text/plain": [
              "<matplotlib.legend.Legend at 0x7fe07513c4d0>"
            ]
          },
          "metadata": {},
          "execution_count": 36
        },
        {
          "output_type": "display_data",
          "data": {
            "image/png": "[encoded data removed]",
            "text/plain": [
              "<Figure size 432x288 with 1 Axes>"
            ]
          },
          "metadata": {
            "needs_background": "light"
          }
        }
      ]
    }
  ],
  "metadata": {
    "interpreter": {
      "hash": "95c10dbc6f7eccef0c1ace84822d618f7863d3bc26cab307fc0169bb43c23fbe"
    },
    "kernelspec": {
      "display_name": "Python 3.8.5 ('base')",
      "language": "python",
      "name": "python3"
    },
    "language_info": {
      "codemirror_mode": {
        "name": "ipython",
        "version": 3
      },
      "file_extension": ".py",
      "mimetype": "text/x-python",
      "name": "python",
      "nbconvert_exporter": "python",
      "pygments_lexer": "ipython3",
      "version": "3.8.5"
    },
    "orig_nbformat": 4,
    "colab": {
      "name": "Median.ipynb",
      "provenance": []
    }
  },
  "nbformat": 4,
  "nbformat_minor": 0
}