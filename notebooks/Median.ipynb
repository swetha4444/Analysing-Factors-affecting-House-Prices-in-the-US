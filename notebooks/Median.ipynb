{
  "cells": [
    {
      "cell_type": "code",
      "execution_count": 1,
      "metadata": {
        "id": "v-11L2WvdqUs"
      },
      "outputs": [],
      "source": [
        "import numpy as np\n",
        "import pandas as pd\n",
        "import matplotlib.pyplot as plt\n",
        "from scipy.stats import norm\n",
        "import matplotlib.mlab as mlab\n",
        "from matplotlib import pylab\n",
        "import seaborn as sns\n",
        "%matplotlib inline"
      ]
    },
    {
      "cell_type": "code",
      "execution_count": 2,
      "metadata": {
        "colab": {
          "base_uri": "https://localhost:8080/",
          "height": 417
        },
        "id": "-o6rKRGmhIqJ",
        "outputId": "ba2bcf29-d3f9-4e9e-e9e2-0b1ac8fecf69"
      },
      "outputs": [
        {
          "data": {
            "text/html": [
              "<div>\n",
              "<style scoped>\n",
              "    .dataframe tbody tr th:only-of-type {\n",
              "        vertical-align: middle;\n",
              "    }\n",
              "\n",
              "    .dataframe tbody tr th {\n",
              "        vertical-align: top;\n",
              "    }\n",
              "\n",
              "    .dataframe thead th {\n",
              "        text-align: right;\n",
              "    }\n",
              "</style>\n",
              "<table border=\"1\" class=\"dataframe\">\n",
              "  <thead>\n",
              "    <tr style=\"text-align: right;\">\n",
              "      <th></th>\n",
              "      <th>RegionName</th>\n",
              "      <th>State</th>\n",
              "      <th>Metro</th>\n",
              "      <th>CountyName</th>\n",
              "      <th>2010-01</th>\n",
              "      <th>2010-02</th>\n",
              "      <th>2010-03</th>\n",
              "      <th>2010-04</th>\n",
              "      <th>2010-05</th>\n",
              "      <th>2010-06</th>\n",
              "      <th>...</th>\n",
              "      <th>2016-05</th>\n",
              "      <th>2016-06</th>\n",
              "      <th>2016-07</th>\n",
              "      <th>2016-08</th>\n",
              "      <th>2016-09</th>\n",
              "      <th>2016-10</th>\n",
              "      <th>2016-11</th>\n",
              "      <th>2016-12</th>\n",
              "      <th>2017-01</th>\n",
              "      <th>2017-02</th>\n",
              "    </tr>\n",
              "    <tr>\n",
              "      <th>SizeRank</th>\n",
              "      <th></th>\n",
              "      <th></th>\n",
              "      <th></th>\n",
              "      <th></th>\n",
              "      <th></th>\n",
              "      <th></th>\n",
              "      <th></th>\n",
              "      <th></th>\n",
              "      <th></th>\n",
              "      <th></th>\n",
              "      <th></th>\n",
              "      <th></th>\n",
              "      <th></th>\n",
              "      <th></th>\n",
              "      <th></th>\n",
              "      <th></th>\n",
              "      <th></th>\n",
              "      <th></th>\n",
              "      <th></th>\n",
              "      <th></th>\n",
              "      <th></th>\n",
              "    </tr>\n",
              "  </thead>\n",
              "  <tbody>\n",
              "    <tr>\n",
              "      <th>1</th>\n",
              "      <td>New York</td>\n",
              "      <td>NY</td>\n",
              "      <td>New York</td>\n",
              "      <td>Queens</td>\n",
              "      <td>NaN</td>\n",
              "      <td>NaN</td>\n",
              "      <td>NaN</td>\n",
              "      <td>NaN</td>\n",
              "      <td>NaN</td>\n",
              "      <td>NaN</td>\n",
              "      <td>...</td>\n",
              "      <td>709000.0</td>\n",
              "      <td>715000.0</td>\n",
              "      <td>718800.0</td>\n",
              "      <td>699000.0</td>\n",
              "      <td>699000.0</td>\n",
              "      <td>716000.0</td>\n",
              "      <td>725000.0</td>\n",
              "      <td>719000.0</td>\n",
              "      <td>715000.0</td>\n",
              "      <td>735000.0</td>\n",
              "    </tr>\n",
              "    <tr>\n",
              "      <th>2</th>\n",
              "      <td>Los Angeles</td>\n",
              "      <td>CA</td>\n",
              "      <td>Los Angeles-Long Beach-Anaheim</td>\n",
              "      <td>Los Angeles</td>\n",
              "      <td>NaN</td>\n",
              "      <td>NaN</td>\n",
              "      <td>NaN</td>\n",
              "      <td>NaN</td>\n",
              "      <td>NaN</td>\n",
              "      <td>NaN</td>\n",
              "      <td>...</td>\n",
              "      <td>690000.0</td>\n",
              "      <td>699000.0</td>\n",
              "      <td>699000.0</td>\n",
              "      <td>699000.0</td>\n",
              "      <td>699000.0</td>\n",
              "      <td>699000.0</td>\n",
              "      <td>709000.0</td>\n",
              "      <td>699900.0</td>\n",
              "      <td>704000.0</td>\n",
              "      <td>708950.0</td>\n",
              "    </tr>\n",
              "    <tr>\n",
              "      <th>3</th>\n",
              "      <td>Chicago</td>\n",
              "      <td>IL</td>\n",
              "      <td>Chicago</td>\n",
              "      <td>Cook</td>\n",
              "      <td>NaN</td>\n",
              "      <td>NaN</td>\n",
              "      <td>NaN</td>\n",
              "      <td>NaN</td>\n",
              "      <td>NaN</td>\n",
              "      <td>NaN</td>\n",
              "      <td>...</td>\n",
              "      <td>275000.0</td>\n",
              "      <td>275000.0</td>\n",
              "      <td>270000.0</td>\n",
              "      <td>269000.0</td>\n",
              "      <td>270000.0</td>\n",
              "      <td>269900.0</td>\n",
              "      <td>265000.0</td>\n",
              "      <td>250000.0</td>\n",
              "      <td>255000.0</td>\n",
              "      <td>275000.0</td>\n",
              "    </tr>\n",
              "    <tr>\n",
              "      <th>4</th>\n",
              "      <td>Houston</td>\n",
              "      <td>TX</td>\n",
              "      <td>Houston</td>\n",
              "      <td>Harris</td>\n",
              "      <td>NaN</td>\n",
              "      <td>NaN</td>\n",
              "      <td>NaN</td>\n",
              "      <td>NaN</td>\n",
              "      <td>NaN</td>\n",
              "      <td>NaN</td>\n",
              "      <td>...</td>\n",
              "      <td>329900.0</td>\n",
              "      <td>330000.0</td>\n",
              "      <td>329000.0</td>\n",
              "      <td>329000.0</td>\n",
              "      <td>323990.0</td>\n",
              "      <td>317375.0</td>\n",
              "      <td>315000.0</td>\n",
              "      <td>309995.0</td>\n",
              "      <td>301990.0</td>\n",
              "      <td>309900.0</td>\n",
              "    </tr>\n",
              "    <tr>\n",
              "      <th>5</th>\n",
              "      <td>Philadelphia</td>\n",
              "      <td>PA</td>\n",
              "      <td>Philadelphia</td>\n",
              "      <td>Philadelphia</td>\n",
              "      <td>NaN</td>\n",
              "      <td>NaN</td>\n",
              "      <td>NaN</td>\n",
              "      <td>NaN</td>\n",
              "      <td>NaN</td>\n",
              "      <td>NaN</td>\n",
              "      <td>...</td>\n",
              "      <td>159900.0</td>\n",
              "      <td>159900.0</td>\n",
              "      <td>156900.0</td>\n",
              "      <td>150000.0</td>\n",
              "      <td>152000.0</td>\n",
              "      <td>158950.0</td>\n",
              "      <td>150000.0</td>\n",
              "      <td>149900.0</td>\n",
              "      <td>150000.0</td>\n",
              "      <td>150000.0</td>\n",
              "    </tr>\n",
              "  </tbody>\n",
              "</table>\n",
              "<p>5 rows × 90 columns</p>\n",
              "</div>"
            ],
            "text/plain": [
              "            RegionName State                           Metro    CountyName  \\\n",
              "SizeRank                                                                     \n",
              "1             New York    NY                        New York        Queens   \n",
              "2          Los Angeles    CA  Los Angeles-Long Beach-Anaheim   Los Angeles   \n",
              "3              Chicago    IL                         Chicago          Cook   \n",
              "4              Houston    TX                         Houston        Harris   \n",
              "5         Philadelphia    PA                    Philadelphia  Philadelphia   \n",
              "\n",
              "          2010-01  2010-02  2010-03  2010-04  2010-05  2010-06  ...   2016-05  \\\n",
              "SizeRank                                                        ...             \n",
              "1             NaN      NaN      NaN      NaN      NaN      NaN  ...  709000.0   \n",
              "2             NaN      NaN      NaN      NaN      NaN      NaN  ...  690000.0   \n",
              "3             NaN      NaN      NaN      NaN      NaN      NaN  ...  275000.0   \n",
              "4             NaN      NaN      NaN      NaN      NaN      NaN  ...  329900.0   \n",
              "5             NaN      NaN      NaN      NaN      NaN      NaN  ...  159900.0   \n",
              "\n",
              "           2016-06   2016-07   2016-08   2016-09   2016-10   2016-11  \\\n",
              "SizeRank                                                               \n",
              "1         715000.0  718800.0  699000.0  699000.0  716000.0  725000.0   \n",
              "2         699000.0  699000.0  699000.0  699000.0  699000.0  709000.0   \n",
              "3         275000.0  270000.0  269000.0  270000.0  269900.0  265000.0   \n",
              "4         330000.0  329000.0  329000.0  323990.0  317375.0  315000.0   \n",
              "5         159900.0  156900.0  150000.0  152000.0  158950.0  150000.0   \n",
              "\n",
              "           2016-12   2017-01   2017-02  \n",
              "SizeRank                                \n",
              "1         719000.0  715000.0  735000.0  \n",
              "2         699900.0  704000.0  708950.0  \n",
              "3         250000.0  255000.0  275000.0  \n",
              "4         309995.0  301990.0  309900.0  \n",
              "5         149900.0  150000.0  150000.0  \n",
              "\n",
              "[5 rows x 90 columns]"
            ]
          },
          "execution_count": 2,
          "metadata": {},
          "output_type": "execute_result"
        }
      ],
      "source": [
        "df=pd.read_csv('../Data/City_MedianListingPrice_AllHomes.csv')\n",
        "df=df.set_index('SizeRank')\n",
        "df.head()"
      ]
    },
    {
      "cell_type": "code",
      "execution_count": 3,
      "metadata": {
        "id": "OK2A8aLyhN5_"
      },
      "outputs": [],
      "source": [
        "#total change from 2010-01 to 2017-02\n",
        "df['Total Change'] = df.loc[:,'2017-02'] - df.loc[:,'2010-01']\n",
        "df['Percent Change'] = (df.loc[:,'2017-02'] - df.loc[:,'2010-01']) / df.loc[:,'2010-01']\n",
        "#Last one year change starting from 2016-02 to 2017-02\n",
        "df['Year Change'] = df.loc[:,'2017-02'] - df.loc[:,'2016-02']\n",
        "df['Year Percent Change'] = (df.loc[:,'2017-02'] - df.loc[:,'2016-02']) / df.loc[:,'2016-02']"
      ]
    },
    {
      "cell_type": "code",
      "execution_count": 28,
      "metadata": {
        "id": "UCS_8GZwjMa3"
      },
      "outputs": [
        {
          "data": {
            "text/html": [
              "<div>\n",
              "<style scoped>\n",
              "    .dataframe tbody tr th:only-of-type {\n",
              "        vertical-align: middle;\n",
              "    }\n",
              "\n",
              "    .dataframe tbody tr th {\n",
              "        vertical-align: top;\n",
              "    }\n",
              "\n",
              "    .dataframe thead th {\n",
              "        text-align: right;\n",
              "    }\n",
              "</style>\n",
              "<table border=\"1\" class=\"dataframe\">\n",
              "  <thead>\n",
              "    <tr style=\"text-align: right;\">\n",
              "      <th></th>\n",
              "      <th>RegionName</th>\n",
              "      <th>State</th>\n",
              "      <th>Metro</th>\n",
              "      <th>CountyName</th>\n",
              "      <th>2010-01</th>\n",
              "      <th>2010-02</th>\n",
              "      <th>2010-03</th>\n",
              "      <th>2010-04</th>\n",
              "      <th>2010-05</th>\n",
              "      <th>2010-06</th>\n",
              "      <th>...</th>\n",
              "      <th>2016-09</th>\n",
              "      <th>2016-10</th>\n",
              "      <th>2016-11</th>\n",
              "      <th>2016-12</th>\n",
              "      <th>2017-01</th>\n",
              "      <th>2017-02</th>\n",
              "      <th>Total Change</th>\n",
              "      <th>Percent Change</th>\n",
              "      <th>Year Change</th>\n",
              "      <th>Year Percent Change</th>\n",
              "    </tr>\n",
              "    <tr>\n",
              "      <th>SizeRank</th>\n",
              "      <th></th>\n",
              "      <th></th>\n",
              "      <th></th>\n",
              "      <th></th>\n",
              "      <th></th>\n",
              "      <th></th>\n",
              "      <th></th>\n",
              "      <th></th>\n",
              "      <th></th>\n",
              "      <th></th>\n",
              "      <th></th>\n",
              "      <th></th>\n",
              "      <th></th>\n",
              "      <th></th>\n",
              "      <th></th>\n",
              "      <th></th>\n",
              "      <th></th>\n",
              "      <th></th>\n",
              "      <th></th>\n",
              "      <th></th>\n",
              "      <th></th>\n",
              "    </tr>\n",
              "  </thead>\n",
              "  <tbody>\n",
              "    <tr>\n",
              "      <th>1</th>\n",
              "      <td>New York</td>\n",
              "      <td>NY</td>\n",
              "      <td>New York</td>\n",
              "      <td>Queens</td>\n",
              "      <td>0.0</td>\n",
              "      <td>0.0</td>\n",
              "      <td>0.0</td>\n",
              "      <td>0.0</td>\n",
              "      <td>0.0</td>\n",
              "      <td>0.0</td>\n",
              "      <td>...</td>\n",
              "      <td>699000.0</td>\n",
              "      <td>716000.0</td>\n",
              "      <td>725000.0</td>\n",
              "      <td>719000.0</td>\n",
              "      <td>715000.0</td>\n",
              "      <td>735000.0</td>\n",
              "      <td>0.0</td>\n",
              "      <td>0.0</td>\n",
              "      <td>-14000.0</td>\n",
              "      <td>-0.018692</td>\n",
              "    </tr>\n",
              "    <tr>\n",
              "      <th>2</th>\n",
              "      <td>Los Angeles</td>\n",
              "      <td>CA</td>\n",
              "      <td>Los Angeles-Long Beach-Anaheim</td>\n",
              "      <td>Los Angeles</td>\n",
              "      <td>0.0</td>\n",
              "      <td>0.0</td>\n",
              "      <td>0.0</td>\n",
              "      <td>0.0</td>\n",
              "      <td>0.0</td>\n",
              "      <td>0.0</td>\n",
              "      <td>...</td>\n",
              "      <td>699000.0</td>\n",
              "      <td>699000.0</td>\n",
              "      <td>709000.0</td>\n",
              "      <td>699900.0</td>\n",
              "      <td>704000.0</td>\n",
              "      <td>708950.0</td>\n",
              "      <td>0.0</td>\n",
              "      <td>0.0</td>\n",
              "      <td>43950.0</td>\n",
              "      <td>0.066090</td>\n",
              "    </tr>\n",
              "    <tr>\n",
              "      <th>3</th>\n",
              "      <td>Chicago</td>\n",
              "      <td>IL</td>\n",
              "      <td>Chicago</td>\n",
              "      <td>Cook</td>\n",
              "      <td>0.0</td>\n",
              "      <td>0.0</td>\n",
              "      <td>0.0</td>\n",
              "      <td>0.0</td>\n",
              "      <td>0.0</td>\n",
              "      <td>0.0</td>\n",
              "      <td>...</td>\n",
              "      <td>270000.0</td>\n",
              "      <td>269900.0</td>\n",
              "      <td>265000.0</td>\n",
              "      <td>250000.0</td>\n",
              "      <td>255000.0</td>\n",
              "      <td>275000.0</td>\n",
              "      <td>0.0</td>\n",
              "      <td>0.0</td>\n",
              "      <td>26000.0</td>\n",
              "      <td>0.104418</td>\n",
              "    </tr>\n",
              "    <tr>\n",
              "      <th>4</th>\n",
              "      <td>Houston</td>\n",
              "      <td>TX</td>\n",
              "      <td>Houston</td>\n",
              "      <td>Harris</td>\n",
              "      <td>0.0</td>\n",
              "      <td>0.0</td>\n",
              "      <td>0.0</td>\n",
              "      <td>0.0</td>\n",
              "      <td>0.0</td>\n",
              "      <td>0.0</td>\n",
              "      <td>...</td>\n",
              "      <td>323990.0</td>\n",
              "      <td>317375.0</td>\n",
              "      <td>315000.0</td>\n",
              "      <td>309995.0</td>\n",
              "      <td>301990.0</td>\n",
              "      <td>309900.0</td>\n",
              "      <td>0.0</td>\n",
              "      <td>0.0</td>\n",
              "      <td>-20000.0</td>\n",
              "      <td>-0.060624</td>\n",
              "    </tr>\n",
              "    <tr>\n",
              "      <th>5</th>\n",
              "      <td>Philadelphia</td>\n",
              "      <td>PA</td>\n",
              "      <td>Philadelphia</td>\n",
              "      <td>Philadelphia</td>\n",
              "      <td>0.0</td>\n",
              "      <td>0.0</td>\n",
              "      <td>0.0</td>\n",
              "      <td>0.0</td>\n",
              "      <td>0.0</td>\n",
              "      <td>0.0</td>\n",
              "      <td>...</td>\n",
              "      <td>152000.0</td>\n",
              "      <td>158950.0</td>\n",
              "      <td>150000.0</td>\n",
              "      <td>149900.0</td>\n",
              "      <td>150000.0</td>\n",
              "      <td>150000.0</td>\n",
              "      <td>0.0</td>\n",
              "      <td>0.0</td>\n",
              "      <td>10100.0</td>\n",
              "      <td>0.072194</td>\n",
              "    </tr>\n",
              "  </tbody>\n",
              "</table>\n",
              "<p>5 rows × 94 columns</p>\n",
              "</div>"
            ],
            "text/plain": [
              "            RegionName State                           Metro    CountyName  \\\n",
              "SizeRank                                                                     \n",
              "1             New York    NY                        New York        Queens   \n",
              "2          Los Angeles    CA  Los Angeles-Long Beach-Anaheim   Los Angeles   \n",
              "3              Chicago    IL                         Chicago          Cook   \n",
              "4              Houston    TX                         Houston        Harris   \n",
              "5         Philadelphia    PA                    Philadelphia  Philadelphia   \n",
              "\n",
              "          2010-01  2010-02  2010-03  2010-04  2010-05  2010-06  ...   2016-09  \\\n",
              "SizeRank                                                        ...             \n",
              "1             0.0      0.0      0.0      0.0      0.0      0.0  ...  699000.0   \n",
              "2             0.0      0.0      0.0      0.0      0.0      0.0  ...  699000.0   \n",
              "3             0.0      0.0      0.0      0.0      0.0      0.0  ...  270000.0   \n",
              "4             0.0      0.0      0.0      0.0      0.0      0.0  ...  323990.0   \n",
              "5             0.0      0.0      0.0      0.0      0.0      0.0  ...  152000.0   \n",
              "\n",
              "           2016-10   2016-11   2016-12   2017-01   2017-02  Total Change  \\\n",
              "SizeRank                                                                   \n",
              "1         716000.0  725000.0  719000.0  715000.0  735000.0           0.0   \n",
              "2         699000.0  709000.0  699900.0  704000.0  708950.0           0.0   \n",
              "3         269900.0  265000.0  250000.0  255000.0  275000.0           0.0   \n",
              "4         317375.0  315000.0  309995.0  301990.0  309900.0           0.0   \n",
              "5         158950.0  150000.0  149900.0  150000.0  150000.0           0.0   \n",
              "\n",
              "          Percent Change  Year Change  Year Percent Change  \n",
              "SizeRank                                                    \n",
              "1                    0.0     -14000.0            -0.018692  \n",
              "2                    0.0      43950.0             0.066090  \n",
              "3                    0.0      26000.0             0.104418  \n",
              "4                    0.0     -20000.0            -0.060624  \n",
              "5                    0.0      10100.0             0.072194  \n",
              "\n",
              "[5 rows x 94 columns]"
            ]
          },
          "execution_count": 28,
          "metadata": {},
          "output_type": "execute_result"
        }
      ],
      "source": [
        "df = df.fillna(0)\n",
        "df.head()"
      ]
    },
    {
      "cell_type": "code",
      "execution_count": 31,
      "metadata": {},
      "outputs": [
        {
          "data": {
            "text/plain": [
              "RegionName\n",
              "Abbeville          0.0\n",
              "Aberdeen       13612.5\n",
              "Abilene         3650.0\n",
              "Abingdon       -9919.5\n",
              "Abington       43994.5\n",
              "                ...   \n",
              "Zelienople         0.0\n",
              "Zephyr Cove        0.0\n",
              "Zephyrhills        0.0\n",
              "Zion               0.0\n",
              "Zionsville     93000.0\n",
              "Name: Total Change, Length: 5769, dtype: float64"
            ]
          },
          "execution_count": 31,
          "metadata": {},
          "output_type": "execute_result"
        }
      ],
      "source": [
        "df.groupby('RegionName')['Total Change'].mean()"
      ]
    },
    {
      "cell_type": "code",
      "execution_count": 33,
      "metadata": {},
      "outputs": [
        {
          "data": {
            "text/plain": [
              "(11334.229183898538, 46725.43252530648)"
            ]
          },
          "execution_count": 33,
          "metadata": {},
          "output_type": "execute_result"
        }
      ],
      "source": [
        "norm.fit(df['Total Change']) #mean and standard deviation"
      ]
    },
    {
      "cell_type": "code",
      "execution_count": 34,
      "metadata": {
        "id": "x3I9VTTqhRbK"
      },
      "outputs": [],
      "source": [
        "def plotr(df, group, column='Total Change', bins=100):\n",
        "    plot = df.groupby(group)[column].mean().plot(kind='hist', bins=bins)\n",
        "    \n",
        "    plt.title('Mean {} Grouped by {}'.format(column, group))\n",
        "    plt.xlabel(column)\n",
        "    plt.ylabel('Numer of Occurrences')\n",
        "    \n",
        "    mn = df[column].mean()\n",
        "    plt.axvline(mn, color='r', linestyle='dashed', linewidth=1, label='mean')\n",
        "    plt.legend()\n",
        "    return plot"
      ]
    },
    {
      "cell_type": "code",
      "execution_count": 35,
      "metadata": {},
      "outputs": [
        {
          "data": {
            "text/plain": [
              "<AxesSubplot:title={'center':'Mean Total Change Grouped by RegionName'}, xlabel='Total Change', ylabel='Numer of Occurrences'>"
            ]
          },
          "execution_count": 35,
          "metadata": {},
          "output_type": "execute_result"
        },
        {
          "data": {
            "image/png": "[encoded data removed]",
            "text/plain": [
              "<Figure size 432x288 with 1 Axes>"
            ]
          },
          "metadata": {
            "needs_background": "light"
          },
          "output_type": "display_data"
        }
      ],
      "source": [
        "plotr(df,'RegionName',bins=35)"
      ]
    },
    {
      "cell_type": "code",
      "execution_count": 36,
      "metadata": {},
      "outputs": [
        {
          "data": {
            "text/plain": [
              "<AxesSubplot:title={'center':'Mean Total Change Grouped by Metro'}, xlabel='Total Change', ylabel='Numer of Occurrences'>"
            ]
          },
          "execution_count": 36,
          "metadata": {},
          "output_type": "execute_result"
        },
        {
          "data": {
            "image/png": "[encoded data removed]",
            "text/plain": [
              "<Figure size 432x288 with 1 Axes>"
            ]
          },
          "metadata": {
            "needs_background": "light"
          },
          "output_type": "display_data"
        }
      ],
      "source": [
        "plotr(df,'Metro')"
      ]
    },
    {
      "cell_type": "code",
      "execution_count": 37,
      "metadata": {},
      "outputs": [
        {
          "data": {
            "text/plain": [
              "<AxesSubplot:title={'center':'Mean Total Change Grouped by State'}, xlabel='Total Change', ylabel='Numer of Occurrences'>"
            ]
          },
          "execution_count": 37,
          "metadata": {},
          "output_type": "execute_result"
        },
        {
          "data": {
            "image/png": "[encoded data removed]",
            "text/plain": [
              "<Figure size 432x288 with 1 Axes>"
            ]
          },
          "metadata": {
            "needs_background": "light"
          },
          "output_type": "display_data"
        }
      ],
      "source": [
        "plotr(df,'State',bins=55)"
      ]
    }
  ],
  "metadata": {
    "colab": {
      "name": "Median.ipynb",
      "provenance": []
    },
    "interpreter": {
      "hash": "95c10dbc6f7eccef0c1ace84822d618f7863d3bc26cab307fc0169bb43c23fbe"
    },
    "kernelspec": {
      "display_name": "Python 3.8.5 ('base')",
      "language": "python",
      "name": "python3"
    },
    "language_info": {
      "codemirror_mode": {
        "name": "ipython",
        "version": 3
      },
      "file_extension": ".py",
      "mimetype": "text/x-python",
      "name": "python",
      "nbconvert_exporter": "python",
      "pygments_lexer": "ipython3",
      "version": "3.8.5"
    },
    "orig_nbformat": 4
  },
  "nbformat": 4,
  "nbformat_minor": 0
}
